{
 "cells": [
  {
   "cell_type": "markdown",
   "metadata": {},
   "source": [
    "\n",
    "# PyBank HW"
   ]
  },
  {
   "cell_type": "code",
   "execution_count": 31,
   "metadata": {},
   "outputs": [],
   "source": [
    "import csv "
   ]
  },
  {
   "cell_type": "code",
   "execution_count": 32,
   "metadata": {},
   "outputs": [],
   "source": [
    "input_data = 'budget_data.csv'\n",
    "\n",
    "output_data = 'PyBank_Financialdata.txt'"
   ]
  },
  {
   "cell_type": "code",
   "execution_count": 33,
   "metadata": {},
   "outputs": [],
   "source": [
    "# Defining the variable\n",
    "\n",
    "total_months = 0\n",
    "\n",
    "total_amount = 0\n",
    "\n",
    "last_month = 0\n",
    "\n",
    "monthly_change = []\n",
    "\n",
    "maxChange = 0\n",
    "\n",
    "minChange = 0"
   ]
  },
  {
   "cell_type": "code",
   "execution_count": 34,
   "metadata": {},
   "outputs": [],
   "source": [
    " # Defining the logic \n",
    "\n",
    "with open (input_data) as budget:\n",
    "    \n",
    "    reader = csv.DictReader(budget)\n",
    "     \n",
    "               \n",
    "    for row in reader:\n",
    "        total_months = total_months + 1\n",
    "        \n",
    "        total_amount = total_amount + int(row['Profit/Losses'])\n",
    "        \n",
    "        if total_months > 1 :\n",
    "            \n",
    "            change = int(row['Profit/Losses']) - last_month\n",
    "            \n",
    "            monthly_change.append(change)\n",
    "            \n",
    "            \n",
    "            if change > maxChange :\n",
    "                maxChange = change\n",
    "                max_month_with_change = row['Date']\n",
    "                \n",
    "            if change < minChange : \n",
    "                minChange = change\n",
    "                min_month_with_change = row['Date']\n",
    "                \n",
    "                \n",
    "        last_month = int(row['Profit/Losses'])\n",
    "        \n",
    "average = round(sum(monthly_change)/(len(monthly_change)+0.0),2)\n",
    "       \n",
    "    \n",
    "    "
   ]
  },
  {
   "cell_type": "code",
   "execution_count": 41,
   "metadata": {},
   "outputs": [
    {
     "name": "stdout",
     "output_type": "stream",
     "text": [
      "Total number of months = 86\n",
      "Total net amount of Profit/Loss = 38382578\n",
      "Average Change in Profit/Loss between months = -2315.12\n",
      "The greatest increase in profit (Date : Amount) = Feb-2012 :  $1926159\n",
      "The greatest decrease in loss (Date : Amount) = Sep-2013  :  $-2196167\n",
      "\n"
     ]
    }
   ],
   "source": [
    "# Defining the Output layout\n",
    "\n",
    "output_1 = ('Total number of months = ' + str(total_months) + '\\n' +\n",
    "          'Total net amount of Profit/Loss = ' + str(total_amount) + '\\n' +\n",
    "          'Average Change in Profit/Loss between months = ' + str(average) + '\\n' +\n",
    "          'The greatest increase in profit (Date : Amount) = ' + max_month_with_change   +  ' :  ' + '$' + str(maxChange) + '\\n' +\n",
    "          'The greatest decrease in loss (Date : Amount) = '   + min_month_with_change   + '  :  ' + '$' +str(minChange) + '\\n')\n",
    "\n",
    "print(output_1)\n"
   ]
  },
  {
   "cell_type": "code",
   "execution_count": 42,
   "metadata": {},
   "outputs": [],
   "source": [
    "# Exporting OUtput to a text file\n",
    "\n",
    "with open (output_data, 'w') as outputfile:\n",
    "        outputfile.write(output_1)\n"
   ]
  },
  {
   "cell_type": "code",
   "execution_count": null,
   "metadata": {},
   "outputs": [],
   "source": []
  }
 ],
 "metadata": {
  "kernelspec": {
   "display_name": "Python 3",
   "language": "python",
   "name": "python3"
  },
  "language_info": {
   "codemirror_mode": {
    "name": "ipython",
    "version": 3
   },
   "file_extension": ".py",
   "mimetype": "text/x-python",
   "name": "python",
   "nbconvert_exporter": "python",
   "pygments_lexer": "ipython3",
   "version": "3.7.1"
  }
 },
 "nbformat": 4,
 "nbformat_minor": 2
}
