{
 "cells": [
  {
   "cell_type": "markdown",
   "metadata": {},
   "source": [
    "\n",
    "# PyPoll HW - Election Results "
   ]
  },
  {
   "cell_type": "code",
   "execution_count": 22,
   "metadata": {},
   "outputs": [],
   "source": [
    "import csv"
   ]
  },
  {
   "cell_type": "code",
   "execution_count": 23,
   "metadata": {},
   "outputs": [],
   "source": [
    "input_data = 'election_data.csv'\n",
    "\n",
    "output_data = 'PyPoll_electionresults.txt'"
   ]
  },
  {
   "cell_type": "code",
   "execution_count": 24,
   "metadata": {},
   "outputs": [],
   "source": [
    "#Defining the variables \n",
    "\n",
    "number_of_candidates = 0\n",
    "total_votes = 0\n",
    "list_of_candidates = []\n",
    "candidates_votes = {}\n",
    "maximum_votes = -1"
   ]
  },
  {
   "cell_type": "code",
   "execution_count": null,
   "metadata": {},
   "outputs": [],
   "source": [
    "# defining the logic \n",
    "\n",
    "with open (input_data) as election_data:\n",
    "    reader = csv.DictReader(election_data)\n",
    "    \n",
    "    for row in reader:\n",
    "        \n",
    "        current_candidate = row['Candidate']\n",
    "        if current_candidate not in list_of_candidates : \n",
    "            number_of_candidates = number_of_candidates + 1\n",
    "            list_of_candidates.append(current_candidate)\n",
    "            candidates_votes[current_candidate]=0\n",
    "            \n",
    "        \n",
    "        candidates_votes[current_candidate]=candidates_votes[current_candidate]+1\n",
    "        \n",
    "        total_votes = total_votes +1 \n",
    "        \n",
    "        if candidates_votes[current_candidate] > maximum_votes : \n",
    "            maximum_votes = candidates_votes[current_candidate]\n",
    "            max_candidate = current_candidate\n",
    "            \n",
    "               "
   ]
  },
  {
   "cell_type": "code",
   "execution_count": 53,
   "metadata": {},
   "outputs": [
    {
     "name": "stdout",
     "output_type": "stream",
     "text": [
      "Election Results\n",
      "------------------------------\n",
      "Total Votes: 31689009\n",
      "------------------------------\n",
      " Khan: 63.000% (19964079)\n",
      " Correy: 20.000% (6337800)\n",
      " Li: 14.000% (4436460)\n",
      " O'Tooley: 3.000% (950670)\n",
      "---------------------------------\n",
      " Winner: Khan\n",
      "---------------------------------\n"
     ]
    }
   ],
   "source": [
    "#defining the output layout and result \n",
    "\n",
    "line_1 = 'Election Results'\n",
    "\n",
    "line_2 = '------------------------------'\n",
    "\n",
    "line_3 = ('Total Votes: %d' %(total_votes))\n",
    "\n",
    "line_4 = '------------------------------'\n",
    "\n",
    "output = line_1 + '\\n' + line_2 + '\\n' + line_3 + '\\n' + line_4\n",
    "\n",
    "for name in list_of_candidates :\n",
    "    line_5 = (' %s: %.3f%% (%d)' %(name, 100*candidates_votes[name]/(0.0+total_votes), candidates_votes[name]))\n",
    "    output = output + '\\n' + line_5\n",
    "    \n",
    "line_6 = ('---------------------------------')\n",
    "\n",
    "line_7 = (' Winner: %s' %max_candidate)\n",
    "\n",
    "line_8 = ('---------------------------------')\n",
    "\n",
    "output = output + '\\n' + line_6 + '\\n' + line_7 + '\\n' + line_8\n",
    "    \n",
    "\n",
    "print(output) "
   ]
  },
  {
   "cell_type": "code",
   "execution_count": 57,
   "metadata": {},
   "outputs": [],
   "source": [
    "# exporting results into a text file \n",
    "\n",
    "with open (output_data, 'w') as outputfile:\n",
    "        outputfile.write(output)"
   ]
  }
 ],
 "metadata": {
  "kernelspec": {
   "display_name": "Python 3",
   "language": "python",
   "name": "python3"
  },
  "language_info": {
   "codemirror_mode": {
    "name": "ipython",
    "version": 3
   },
   "file_extension": ".py",
   "mimetype": "text/x-python",
   "name": "python",
   "nbconvert_exporter": "python",
   "pygments_lexer": "ipython3",
   "version": "3.7.1"
  }
 },
 "nbformat": 4,
 "nbformat_minor": 2
}
